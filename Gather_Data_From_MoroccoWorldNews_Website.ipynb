{
 "cells": [
  {
   "cell_type": "markdown",
   "metadata": {},
   "source": [
    "# import libraries"
   ]
  },
  {
   "cell_type": "code",
   "execution_count": 1,
   "metadata": {},
   "outputs": [],
   "source": [
    "import requests\n",
    "from scrapy.selector import Selector\n",
    "from tqdm import tqdm"
   ]
  },
  {
   "cell_type": "markdown",
   "metadata": {},
   "source": [
    "# Get page code source"
   ]
  },
  {
   "cell_type": "code",
   "execution_count": 2,
   "metadata": {},
   "outputs": [],
   "source": [
    "page = requests.get(\"https://www.moroccoworldnews.com/news-2/\")"
   ]
  },
  {
   "cell_type": "markdown",
   "metadata": {},
   "source": [
    "# Get pages Urls"
   ]
  },
  {
   "cell_type": "code",
   "execution_count": 3,
   "metadata": {},
   "outputs": [
    {
     "data": {
      "text/plain": [
       "(1738, 'https://www.moroccoworldnews.com/news-2/page/1738')"
      ]
     },
     "execution_count": 3,
     "metadata": {},
     "output_type": "execute_result"
    }
   ],
   "source": [
    "num_pages = Selector(text = page.text).css(\"div.page-nav.td-pb-padding-side a.last::text\").get()\n",
    "num_pages = int(num_pages.replace(\",\",\"\"))\n",
    "\n",
    "pages_urls = [\"https://www.moroccoworldnews.com/news-2/page/\"+str(i+1) for i in range(num_pages)]\n",
    "len(pages_urls), pages_urls[-1]"
   ]
  },
  {
   "cell_type": "markdown",
   "metadata": {},
   "source": [
    "# Get relevant Data"
   ]
  },
  {
   "cell_type": "code",
   "execution_count": 4,
   "metadata": {},
   "outputs": [],
   "source": [
    "def get_news_from_page(page_url):\n",
    "    page1 = requests.get(page_url)\n",
    "    titles = Selector(text=page1.text).css(\"div.td-block-span6 h3.entry-title.td-module-title a::text\").getall()\n",
    "    urls = Selector(text=page1.text).css(\"div.td-block-span6 h3.entry-title.td-module-title a::attr(href)\").getall()\n",
    "    images = Selector(text=page1.text).css(\"div.td-block-span6 div.td-module-image div a img::attr(src)\").getall()\n",
    "    authors = Selector(text=page1.text).css(\"div.td-block-span6 div.meta-info span.td-post-author-name a::text\").getall()\n",
    "    dates = Selector(text=page1.text).css(\"div.td-block-span6 div.meta-info span.td-post-date time::text\").getall()\n",
    "    headlines = [Selector(text=requests.get(url).text).css(\"div.td-pb-row div.first-para p::text\").get() for url in urls]\n",
    "    news = [\n",
    "        {\"title\":titles[i], \"author\":authors[i], \"date\":dates[i], \"headline\": headlines[i], \"image\":images[i], \"url\":urls[i]} \n",
    "        for i in range(len(urls))\n",
    "    ]\n",
    "    return news"
   ]
  },
  {
   "cell_type": "code",
   "execution_count": 5,
   "metadata": {},
   "outputs": [
    {
     "name": "stderr",
     "output_type": "stream",
     "text": [
      "100%|██████████████████████████████████████████████████████████████████████████████| 100/100 [1:00:48<00:00, 36.49s/it]\n"
     ]
    },
    {
     "data": {
      "text/plain": [
       "2500"
      ]
     },
     "execution_count": 5,
     "metadata": {},
     "output_type": "execute_result"
    }
   ],
   "source": [
    "news = []\n",
    "for page_url in tqdm(pages_urls[:100]):\n",
    "    news.extend(get_news_from_page(page_url))\n",
    "    \n",
    "len(news)"
   ]
  },
  {
   "cell_type": "markdown",
   "metadata": {},
   "source": [
    "# Put data into CSV file"
   ]
  },
  {
   "cell_type": "code",
   "execution_count": 10,
   "metadata": {},
   "outputs": [],
   "source": [
    "import csv \n",
    "with open('moroccoworldnews.csv', 'a', newline='\\n', encoding=\"utf-8\") as csvfile:\n",
    "    fieldnames = ['title', 'author', 'date', 'headline', 'image', 'url']\n",
    "    writer = csv.DictWriter(csvfile, fieldnames=fieldnames)\n",
    "    writer.writeheader()\n",
    "    for new in news: writer.writerow(new)"
   ]
  },
  {
   "cell_type": "code",
   "execution_count": null,
   "metadata": {},
   "outputs": [],
   "source": []
  }
 ],
 "metadata": {
  "kernelspec": {
   "display_name": "Python 3",
   "language": "python",
   "name": "python3"
  },
  "language_info": {
   "codemirror_mode": {
    "name": "ipython",
    "version": 3
   },
   "file_extension": ".py",
   "mimetype": "text/x-python",
   "name": "python",
   "nbconvert_exporter": "python",
   "pygments_lexer": "ipython3",
   "version": "3.7.7"
  }
 },
 "nbformat": 4,
 "nbformat_minor": 4
}
